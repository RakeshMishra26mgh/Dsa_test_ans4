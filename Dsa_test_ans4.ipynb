{
  "nbformat": 4,
  "nbformat_minor": 0,
  "metadata": {
    "colab": {
      "provenance": [],
      "authorship_tag": "ABX9TyOJg4gBPh89q/6YGQIbj6mM",
      "include_colab_link": true
    },
    "kernelspec": {
      "name": "python3",
      "display_name": "Python 3"
    },
    "language_info": {
      "name": "python"
    }
  },
  "cells": [
    {
      "cell_type": "markdown",
      "metadata": {
        "id": "view-in-github",
        "colab_type": "text"
      },
      "source": [
        "<a href=\"https://colab.research.google.com/github/RakeshMishra26mgh/Dsa_test_ans4/blob/main/Dsa_test_ans4.ipynb\" target=\"_parent\"><img src=\"https://colab.research.google.com/assets/colab-badge.svg\" alt=\"Open In Colab\"/></a>"
      ]
    },
    {
      "cell_type": "code",
      "execution_count": null,
      "metadata": {
        "id": "O3EVJ5ilg2cY"
      },
      "outputs": [],
      "source": [
        "class ListNode:\n",
        "  def __init__(self, val=0, next=None):\n",
        "    self.val = val\n",
        "    self.next = next\n",
        "\n",
        "def addTwoNumbers(l1, l2):\n",
        "  dummy = ListNode()\n",
        "  curr = dummy\n",
        "  carry = 0\n",
        "  while l1 or l2 or carry:\n",
        "    x = l1.val if l1 else 0\n",
        "    y = l2.val if l2 else 0\n",
        "    s = x + y + carry\n",
        "    carry = s // 10\n",
        "    node = ListNode(s % 10)\n",
        "    curr.next = node\n",
        "    curr = curr.next\n",
        "    if l1:\n",
        "      l1 = l1.next\n",
        "    if l2:\n",
        "      l2 = l2.next\n",
        "  return dummy.next\n",
        "\n",
        "def listToLinkedList(lst):\n",
        "  dummy = ListNode()\n",
        "  curr = dummy\n",
        "  for val in lst:\n",
        "    node = ListNode(val)\n",
        "    curr.next = node\n",
        "    curr = curr.next\n",
        "  return dummy.next\n",
        "\n",
        "def linkedListToList(head):\n",
        "  lst = []\n",
        "  curr = head\n",
        "  while curr:\n",
        "    lst.append(curr.val)\n",
        "    curr = curr.next\n",
        "  return lst\n",
        "\n",
        "try:\n",
        "  l1_input = input(\"Enter first number as a list of digits in reverse order separated by comma: \")\n",
        "  l1_list = [int(x) for x in l1_input.strip(\"[]\").split(\",\")]\n",
        "  if not all(0 <= x <=9 for x in l1_list):\n",
        "    raise ValueError(\"Invalid input\")\n",
        "except ValueError as e:\n",
        "  print(e)\n",
        "else:\n",
        "  try:\n",
        "    l2_input = input(\"Enter second number as a list of digits in reverse order separated by comma: \")\n",
        "    l2_list = [int(x) for x in l2_input.strip(\"[]\").split(\",\")]\n",
        "    if not all(0 <= x <=9 for x in l2_list):\n",
        "      raise ValueError(\"Invalid input\")\n",
        "  except ValueError as e:\n",
        "    print(e)\n",
        "\n",
        "  else:\n",
        "    result = addTwoNumbers(listToLinkedList(l1_list), listToLinkedList(l2_list))\n",
        "    print(f\"The sum is {linkedListToList(result)}\")\n"
      ]
    }
  ]
}